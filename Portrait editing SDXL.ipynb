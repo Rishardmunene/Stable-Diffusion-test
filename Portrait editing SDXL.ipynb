{
 "cells": [
  {
   "cell_type": "code",
   "execution_count": null,
   "metadata": {
    "vscode": {
     "languageId": "plaintext"
    }
   },
   "outputs": [],
   "source": [
    "# Cell 1: Import required libraries\n",
    "import os\n",
    "import torch\n",
    "from torchvision import datasets, transforms\n",
    "from torch.utils.data import DataLoader\n",
    "from PIL import Image\n",
    "import matplotlib.pyplot as plt\n",
    "\n",
    "# Check if GPU is available\n",
    "device = torch.device(\"cuda\" if torch.cuda.is_available() else \"cpu\")\n",
    "print(f\"Using device: {device}\")"
   ]
  },
  {
   "cell_type": "code",
   "execution_count": null,
   "metadata": {
    "vscode": {
     "languageId": "plaintext"
    }
   },
   "outputs": [],
   "source": [
    "# Cell 2: Define dataset preprocessing and load images\n",
    "# Assuming your training dataset is in the `./dataset` directory in the root folder\n",
    "root_folder = \"./dataset\"\n",
    "\n",
    "# Define transformations for images (resize, crop, normalize)\n",
    "transform = transforms.Compose([\n",
    "    transforms.Resize((512, 512)),  # Resize images to 512x512\n",
    "    transforms.ToTensor(),  # Convert images to tensor\n",
    "    transforms.Normalize([0.5, 0.5, 0.5], [0.5, 0.5, 0.5])  # Normalize RGB channels\n",
    "])\n",
    "\n",
    "# Load the dataset\n",
    "dataset = datasets.ImageFolder(root=root_folder, transform=transform)\n",
    "dataloader = DataLoader(dataset, batch_size=8, shuffle=True)\n",
    "\n",
    "# Check the dataset\n",
    "print(f\"Number of images in the dataset: {len(dataset)}\")\n",
    "\n",
    "# Display a batch of images\n",
    "def show_batch(loader):\n",
    "    images, _ = next(iter(loader))\n",
    "    images = images.permute(0, 2, 3, 1)  # Move channels to last dimension for visualization\n",
    "    images = (images * 0.5 + 0.5).numpy()  # Denormalize for display\n",
    "    plt.figure(figsize=(10, 10))\n",
    "    for i in range(len(images)):\n",
    "        plt.subplot(2, 4, i + 1)\n",
    "        plt.imshow(images[i])\n",
    "        plt.axis(\"off\")\n",
    "    plt.show()\n",
    "\n",
    "show_batch(dataloader)"
   ]
  },
  {
   "cell_type": "code",
   "execution_count": null,
   "metadata": {
    "vscode": {
     "languageId": "plaintext"
    }
   },
   "outputs": [],
   "source": [
    "# Cell 3: Define or load the model\n",
    "from diffusers import StableDiffusionXLInpaintPipeline\n",
    "\n",
    "# Load the SDXL model pipeline for inpainting\n",
    "model = StableDiffusionXLInpaintPipeline.from_pretrained(\"stabilityai/stable-diffusion-xl-base\").to(device)\n",
    "\n",
    "print(\"Model loaded successfully.\")"
   ]
  },
  {
   "cell_type": "code",
   "execution_count": null,
   "metadata": {
    "vscode": {
     "languageId": "plaintext"
    }
   },
   "outputs": [],
   "source": [
    "# Cell 4: Fine-tune SDXL on your custom dataset\n",
    "# Note: For this demonstration, we'll just process one batch to check model functionality\n",
    "\n",
    "# Example loop to fine-tune or apply inpainting on dataset images\n",
    "for i, (images, _) in enumerate(dataloader):\n",
    "    if i >= 1:  # Process only the first batch for demo\n",
    "        break\n",
    "    \n",
    "    # Send images to the device\n",
    "    images = images.to(device)\n",
    "    \n",
    "    # Generate inpainting results\n",
    "    prompt = \"A portrait of a person with clear skin and vibrant features\"\n",
    "    results = model(prompt=prompt, image=images)\n",
    "\n",
    "    # Visualize results\n",
    "    for j, img in enumerate(results.images):\n",
    "        plt.imshow(img)\n",
    "        plt.title(f\"Result {j+1}\")\n",
    "        plt.axis(\"off\")\n",
    "        plt.show()"
   ]
  },
  {
   "cell_type": "code",
   "execution_count": null,
   "metadata": {
    "vscode": {
     "languageId": "plaintext"
    }
   },
   "outputs": [],
   "source": [
    "# Cell 5: Save the output images\n",
    "output_folder = \"./output\"\n",
    "os.makedirs(output_folder, exist_ok=True)\n",
    "\n",
    "# Save the results from the last batch\n",
    "for idx, img in enumerate(results.images):\n",
    "    img.save(os.path.join(output_folder, f\"result_{idx}.png\"))\n",
    "\n",
    "print(f\"Processed images saved to {output_folder}.\")"
   ]
  },
  {
   "cell_type": "code",
   "execution_count": null,
   "metadata": {
    "vscode": {
     "languageId": "plaintext"
    }
   },
   "outputs": [],
   "source": [
    "# Cell 6: Measure processing time and efficiency\n",
    "import time\n",
    "\n",
    "start_time = time.time()\n",
    "\n",
    "# Process an entire dataset (for evaluation)\n",
    "for i, (images, _) in enumerate(dataloader):\n",
    "    images = images.to(device)\n",
    "    model(prompt=\"A sample test prompt\", image=images)\n",
    "\n",
    "end_time = time.time()\n",
    "print(f\"Total time taken to process dataset: {end_time - start_time:.2f} seconds.\")"
   ]
  },
  {
   "cell_type": "code",
   "execution_count": null,
   "metadata": {
    "vscode": {
     "languageId": "plaintext"
    }
   },
   "outputs": [],
   "source": [
    "# Cell 7: Analyze and visualize outputs\n",
    "# Assuming outputs are stored in the ./output folder\n",
    "output_images = [Image.open(os.path.join(output_folder, img)) for img in os.listdir(output_folder)]\n",
    "\n",
    "# Display output images\n",
    "plt.figure(figsize=(12, 12))\n",
    "for i, img in enumerate(output_images):\n",
    "    plt.subplot(3, 3, i + 1)\n",
    "    plt.imshow(img)\n",
    "    plt.axis(\"off\")\n",
    "plt.show()"
   ]
  },
  {
   "cell_type": "code",
   "execution_count": null,
   "metadata": {
    "vscode": {
     "languageId": "plaintext"
    }
   },
   "outputs": [],
   "source": []
  }
 ],
 "metadata": {
  "language_info": {
   "name": "python"
  }
 },
 "nbformat": 4,
 "nbformat_minor": 2
}
